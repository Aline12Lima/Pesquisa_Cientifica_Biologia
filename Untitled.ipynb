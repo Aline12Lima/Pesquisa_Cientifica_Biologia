{
 "cells": [
  {
   "cell_type": "code",
   "execution_count": 1,
   "id": "928c2cb7-2fc5-4a8c-b707-fc2ac1bf723f",
   "metadata": {},
   "outputs": [
    {
     "ename": "ModuleNotFoundError",
     "evalue": "No module named 'sklearn'",
     "output_type": "error",
     "traceback": [
      "\u001b[31m---------------------------------------------------------------------------\u001b[39m",
      "\u001b[31mModuleNotFoundError\u001b[39m                       Traceback (most recent call last)",
      "\u001b[36mCell\u001b[39m\u001b[36m \u001b[39m\u001b[32mIn[1]\u001b[39m\u001b[32m, line 2\u001b[39m\n\u001b[32m      1\u001b[39m \u001b[38;5;66;03m# Importa as bibliotecas necessárias para o Machine Learning\u001b[39;00m\n\u001b[32m----> \u001b[39m\u001b[32m2\u001b[39m \u001b[38;5;28;01mfrom\u001b[39;00m\u001b[38;5;250m \u001b[39m\u001b[34;01msklearn\u001b[39;00m\u001b[34;01m.\u001b[39;00m\u001b[34;01msvm\u001b[39;00m\u001b[38;5;250m \u001b[39m\u001b[38;5;28;01mimport\u001b[39;00m SVC\n\u001b[32m      3\u001b[39m \u001b[38;5;28;01mfrom\u001b[39;00m\u001b[38;5;250m \u001b[39m\u001b[34;01msklearn\u001b[39;00m\u001b[34;01m.\u001b[39;00m\u001b[34;01mmodel_selection\u001b[39;00m\u001b[38;5;250m \u001b[39m\u001b[38;5;28;01mimport\u001b[39;00m train_test_split\n\u001b[32m      4\u001b[39m \u001b[38;5;28;01mfrom\u001b[39;00m\u001b[38;5;250m \u001b[39m\u001b[34;01msklearn\u001b[39;00m\u001b[38;5;250m \u001b[39m\u001b[38;5;28;01mimport\u001b[39;00m metrics\n",
      "\u001b[31mModuleNotFoundError\u001b[39m: No module named 'sklearn'"
     ]
    }
   ],
   "source": [
    "# Importa as bibliotecas necessárias para o Machine Learning\n",
    "from sklearn.svm import SVC\n",
    "from sklearn.model_selection import train_test_split\n",
    "from sklearn import metrics\n",
    "import numpy as np\n",
    "\n",
    "# Apenas para exemplo, os dados que você extrairia das suas imagens\n",
    "# X é a entrada do modelo (as características: Área, Intensidade)\n",
    "X = np.array([[500, 120], [800, 150], [300, 90], [450, 110]])\n",
    "\n",
    "# y é a saída que o modelo precisa aprender a prever (o resultado do teste)\n",
    "# 0 = Baixo, 1 = Alto\n",
    "y = np.array([0, 1, 0, 1])\n",
    "\n",
    "# Divide os dados em dois conjuntos: um para treinar e outro para testar o modelo\n",
    "X_treino, X_teste, y_treino, y_teste = train_test_split(X, y, test_size=0.3, random_state=42)\n",
    "\n",
    "# Cria o modelo de Machine Learning\n",
    "modelo = SVC()\n",
    "\n",
    "# Treina o modelo com o conjunto de dados de treino\n",
    "modelo.fit(X_treino, y_treino)\n",
    "\n",
    "# Faz previsões com o conjunto de dados de teste\n",
    "previsoes = modelo.predict(X_teste)\n",
    "\n",
    "# Avalia a precisão do modelo\n",
    "precisao = metrics.accuracy_score(y_teste, previsoes)\n",
    "\n",
    "# Exibe o resultado no console do Notebook\n",
    "print(\"Previsões:\", previsoes)\n",
    "print(\"Precisão do Modelo:\", precisao)"
   ]
  },
  {
   "cell_type": "code",
   "execution_count": null,
   "id": "d5dd01d0-d954-4dd8-bdc1-d34158aa22f9",
   "metadata": {},
   "outputs": [],
   "source": []
  }
 ],
 "metadata": {
  "kernelspec": {
   "display_name": "Python 3 (ipykernel)",
   "language": "python",
   "name": "python3"
  },
  "language_info": {
   "codemirror_mode": {
    "name": "ipython",
    "version": 3
   },
   "file_extension": ".py",
   "mimetype": "text/x-python",
   "name": "python",
   "nbconvert_exporter": "python",
   "pygments_lexer": "ipython3",
   "version": "3.12.3"
  }
 },
 "nbformat": 4,
 "nbformat_minor": 5
}
