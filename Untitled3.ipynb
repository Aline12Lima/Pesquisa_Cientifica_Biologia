{
 "cells": [
  {
   "cell_type": "code",
   "execution_count": 4,
   "id": "b37aa176-1c1b-415e-ad1d-b7d2f627dd5a",
   "metadata": {},
   "outputs": [
    {
     "name": "stdout",
     "output_type": "stream",
     "text": [
      "Visualização dos dados carregados:\n",
      "   intensidade_media  intensidade_desvio_padrao  area_maxima  \\\n",
      "0         126.340317                  60.013281      38583.0   \n",
      "1         133.586044                  64.202061      50417.5   \n",
      "2         139.868347                  68.174833      52114.5   \n",
      "3         110.286789                  60.023551      38184.5   \n",
      "4         135.030472                  60.753934      50932.0   \n",
      "\n",
      "   perimetro_maximo  classe  \n",
      "0       1533.057999  NORMAL  \n",
      "1       1113.972651  NORMAL  \n",
      "2        989.060963  NORMAL  \n",
      "3       1894.118960  NORMAL  \n",
      "4       1108.156415  NORMAL  \n",
      "\n",
      "Dimensões do DataFrame (linhas, colunas): (5856, 5)\n"
     ]
    }
   ],
   "source": [
    "# Importa a biblioteca pandas, que organiza os dados em tabelas\n",
    "import pandas as pd\n",
    "\n",
    "# Define o nome do arquivo CSV que você criou\n",
    "nome_do_arquivo = 'caracteristicas_dataset.csv'\n",
    "\n",
    "# Carrega o arquivo CSV para um objeto chamado DataFrame\n",
    "# O DataFrame é como uma planilha do Excel\n",
    "df = pd.read_csv(nome_do_arquivo)\n",
    "\n",
    "# Exibe as primeiras 5 linhas da tabela para verificar se os dados foram lidos corretamente\n",
    "print(\"Visualização dos dados carregados:\")\n",
    "print(df.head())\n",
    "\n",
    "# Exibe as dimensões do DataFrame (linhas e colunas)\n",
    "print(\"\\nDimensões do DataFrame (linhas, colunas):\", df.shape)"
   ]
  },
  {
   "cell_type": "code",
   "execution_count": 5,
   "id": "70de8d48-4dd3-4d6d-82f6-5e36d00e646d",
   "metadata": {},
   "outputs": [
    {
     "name": "stdout",
     "output_type": "stream",
     "text": [
      "Previsões do Modelo:\n",
      "['PNEUMONIA' 'PNEUMONIA' 'PNEUMONIA' ... 'PNEUMONIA' 'PNEUMONIA'\n",
      " 'PNEUMONIA']\n",
      "\n",
      "Precisão do Modelo: 0.7107508532423208\n"
     ]
    }
   ],
   "source": []
  },
  {
   "cell_type": "code",
   "execution_count": 6,
   "id": "f218928f-b0b8-4bae-a41d-ff75f56aa5ec",
   "metadata": {},
   "outputs": [
    {
     "name": "stdout",
     "output_type": "stream",
     "text": [
      "Previsões do Modelo:\n",
      "[1 1 1 ... 1 1 1]\n",
      "\n",
      "Resultados Reais do Teste:\n",
      "[1 1 1 ... 1 1 1]\n",
      "\n",
      "--- Relatório de Classificação ---\n",
      "              precision    recall  f1-score   support\n",
      "\n",
      "      NORMAL       0.00      0.00      0.00       317\n",
      "   PNEUMONIA       0.73      1.00      0.84       855\n",
      "\n",
      "    accuracy                           0.73      1172\n",
      "   macro avg       0.36      0.50      0.42      1172\n",
      "weighted avg       0.53      0.73      0.62      1172\n",
      "\n",
      "Precisão do Modelo: 0.73\n"
     ]
    },
    {
     "name": "stderr",
     "output_type": "stream",
     "text": [
      "/home/aline/projetos/pesquisa_bio/meu_ambiente/lib/python3.12/site-packages/sklearn/metrics/_classification.py:1731: UndefinedMetricWarning: Precision is ill-defined and being set to 0.0 in labels with no predicted samples. Use `zero_division` parameter to control this behavior.\n",
      "  _warn_prf(average, modifier, f\"{metric.capitalize()} is\", result.shape[0])\n",
      "/home/aline/projetos/pesquisa_bio/meu_ambiente/lib/python3.12/site-packages/sklearn/metrics/_classification.py:1731: UndefinedMetricWarning: Precision is ill-defined and being set to 0.0 in labels with no predicted samples. Use `zero_division` parameter to control this behavior.\n",
      "  _warn_prf(average, modifier, f\"{metric.capitalize()} is\", result.shape[0])\n",
      "/home/aline/projetos/pesquisa_bio/meu_ambiente/lib/python3.12/site-packages/sklearn/metrics/_classification.py:1731: UndefinedMetricWarning: Precision is ill-defined and being set to 0.0 in labels with no predicted samples. Use `zero_division` parameter to control this behavior.\n",
      "  _warn_prf(average, modifier, f\"{metric.capitalize()} is\", result.shape[0])\n"
     ]
    }
   ],
   "source": [
    "from sklearn.svm import SVC\n",
    "from sklearn.metrics import accuracy_score, classification_report\n",
    "import pandas as pd\n",
    "import numpy as np\n",
    "\n",
    "X = df.drop('classe', axis=1)\n",
    "y = df['classe'].map({'NORMAL': 0, 'PNEUMONIA': 1})\n",
    "\n",
    "X_treino, X_teste, y_treino, y_teste = train_test_split(\n",
    "    X, y, test_size=0.20, random_state=42, stratify=y\n",
    ")\n",
    "\n",
    "# 3. Treinar o modelo de Machine Learning\n",
    "# Cria uma instância do modelo SVC (Support Vector Classifier)\n",
    "modelo = SVC()\n",
    "\n",
    "# Treina o modelo usando os dados de treino\n",
    "modelo.fit(X_treino, y_treino)\n",
    "\n",
    "# 4. Fazer previsões com os dados de teste\n",
    "# O modelo agora prevê a classe de cada imagem no conjunto de teste\n",
    "previsoes = modelo.predict(X_teste)\n",
    "\n",
    "# 5. Avaliar o desempenho do modelo\n",
    "# Calcula a precisão, que é a porcentagem de previsões corretas\n",
    "precisao = accuracy_score(y_teste, previsoes)\n",
    "\n",
    "# Gera um relatório de classificação detalhado\n",
    "relatorio_classificacao = classification_report(y_teste, previsoes, target_names=['NORMAL', 'PNEUMONIA'])\n",
    "\n",
    "# Exibe os resultados\n",
    "print(\"Previsões do Modelo:\")\n",
    "print(previsoes)\n",
    "print(\"\\nResultados Reais do Teste:\")\n",
    "print(y_teste.to_numpy())\n",
    "print(\"\\n--- Relatório de Classificação ---\")\n",
    "print(relatorio_classificacao)\n",
    "\n",
    "print(f\"Precisão do Modelo: {precisao:.2f}\")"
   ]
  },
  {
   "cell_type": "code",
   "execution_count": null,
   "id": "2b766860-44fe-49fc-871d-6937b4d68039",
   "metadata": {},
   "outputs": [],
   "source": []
  }
 ],
 "metadata": {
  "kernelspec": {
   "display_name": "Python 3 (ipykernel)",
   "language": "python",
   "name": "python3"
  },
  "language_info": {
   "codemirror_mode": {
    "name": "ipython",
    "version": 3
   },
   "file_extension": ".py",
   "mimetype": "text/x-python",
   "name": "python",
   "nbconvert_exporter": "python",
   "pygments_lexer": "ipython3",
   "version": "3.12.3"
  }
 },
 "nbformat": 4,
 "nbformat_minor": 5
}
